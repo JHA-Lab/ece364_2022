{
  "cells": [
    {
      "cell_type": "markdown",
      "metadata": {
        "id": "E32UBMT7VKMm"
      },
      "source": [
        "## Prepare python environment\n"
      ]
    },
    {
      "cell_type": "code",
      "execution_count": null,
      "metadata": {
        "id": "y_lm7Q-9VKMn"
      },
      "outputs": [],
      "source": [
        "import pandas as pd\n",
        "import numpy as np\n",
        "import matplotlib.pyplot as plt\n",
        "import seaborn as sns\n",
        "from sklearn.model_selection import train_test_split\n",
        "\n",
        "%matplotlib inline"
      ]
    },
    {
      "cell_type": "code",
      "execution_count": null,
      "metadata": {
        "id": "ryOZJYQa3PG0"
      },
      "outputs": [],
      "source": [
        "random_state=5 # use this to control randomness across runs e.g., dataset partitioning"
      ]
    },
    {
      "cell_type": "markdown",
      "metadata": {
        "id": "BASGXrOy4wat"
      },
      "source": [
        "## Preparing the Glass Dataset (2 points)\n",
        "\n",
        "---\n",
        "\n",
        "We will use glass dataset from UCI machine learning repository. Details for this data can be found [here](https://archive.ics.uci.edu/ml/datasets/glass+identification). The objective of the dataset is to identify the class of glass based on the following features:\n",
        "\n",
        "1.  RI: refractive index\n",
        "2.  Na: Sodium\n",
        "3.  Mg: Magnesium\n",
        "4.  Al: Aluminum\n",
        "5.  Si: Silica\n",
        "6.  K: Potassium\n",
        "7.  Ca: Calcium\n",
        "8.  Ba: Barium\n",
        "9.  Fe: Iron\n",
        "10. Type of glass (Target label)\n",
        "\n",
        "The classes of glass are:\n",
        "\n",
        "1. building_windows_float_processed \n",
        "2. building_windows_non_float_processed \n",
        "3. vehicle_windows_float_processed \n",
        "4. containers \n",
        "6. tableware \n",
        "7. headlamps\n",
        "\n",
        "Identification of glass from its content can be used for forensic analysis."
      ]
    },
    {
      "cell_type": "markdown",
      "metadata": {
        "id": "URgO9HCN6RCl"
      },
      "source": [
        "### Loading the dataset"
      ]
    },
    {
      "cell_type": "code",
      "execution_count": null,
      "metadata": {
        "id": "6Pyo8XV46UlI"
      },
      "outputs": [],
      "source": [
        "# Download and load the dataset\n",
        "import os\n",
        "if not os.path.exists('glass.csv'): \n",
        "    !wget https://raw.githubusercontent.com/JHA-Lab/ece364_2022/master/dataset/glass.csv \n",
        "data = pd.read_csv('glass.csv')\n",
        "# Display the first five instances in the dataset\n",
        "data.head(5)"
      ]
    },
    {
      "cell_type": "markdown",
      "metadata": {
        "id": "IgKnqRBm6Wap"
      },
      "source": [
        "### Check the data type for each column"
      ]
    },
    {
      "cell_type": "code",
      "execution_count": null,
      "metadata": {
        "id": "sWDsbF6U6ZLT"
      },
      "outputs": [],
      "source": [
        "data.info()"
      ]
    },
    {
      "cell_type": "markdown",
      "metadata": {
        "id": "KS7PzOS76hrv"
      },
      "source": [
        "#### Look at some statistics of the data using the `describe` function in pandas."
      ]
    },
    {
      "cell_type": "code",
      "execution_count": null,
      "metadata": {
        "id": "GlIARPVH6mIq"
      },
      "outputs": [],
      "source": [
        "data.describe()"
      ]
    },
    {
      "cell_type": "markdown",
      "metadata": {
        "id": "WcVuFlvZ6oYT"
      },
      "source": [
        "1. Count tells us the number of Non-empty rows in a feature.\n",
        "\n",
        "2. Mean tells us the mean value of that feature.\n",
        "\n",
        "3. Std tells us the Standard Deviation Value of that feature.\n",
        "\n",
        "4. Min tells us the minimum value of that feature.\n",
        "\n",
        "5. 25%, 50%, and 75% are the percentile/quartile of each feature.\n",
        "\n",
        "6. Max tells us the maximum value of that feature."
      ]
    },
    {
      "cell_type": "markdown",
      "metadata": {
        "id": "CbaTFlgiaBNF"
      },
      "source": [
        "### Visualize the Data"
      ]
    },
    {
      "cell_type": "markdown",
      "metadata": {
        "id": "LT6ijHsr6tIc"
      },
      "source": [
        "#### Check how many classes of each type of glass are there in the data. This has been done for you."
      ]
    },
    {
      "cell_type": "code",
      "execution_count": null,
      "metadata": {
        "id": "l70LaOwd6v9g"
      },
      "outputs": [],
      "source": [
        "sns.set(style=\"whitegrid\", font_scale=1.8)\n",
        "plt.subplots(figsize = (15,8))\n",
        "sns.countplot(x='Type',data=data).set_title('Count of Glass Types')"
      ]
    },
    {
      "cell_type": "markdown",
      "metadata": {
        "id": "9CpKTgXIaR82"
      },
      "source": [
        "#### Calculate `mean` material content for each kind of glass. This has been done for you."
      ]
    },
    {
      "cell_type": "code",
      "execution_count": null,
      "metadata": {
        "id": "wOMhQWw960bh"
      },
      "outputs": [],
      "source": [
        "# Compute mean material content for each kind of glass\n",
        "data.groupby('Type', as_index=False).mean()"
      ]
    },
    {
      "cell_type": "markdown",
      "metadata": {
        "id": "BNvM-NjdaTOl"
      },
      "source": [
        "#### Create box plot to see distribution of each content in the glass. See [here](https://seaborn.pydata.org/generated/seaborn.boxplot.html) for further details. This has been done for you."
      ]
    },
    {
      "cell_type": "code",
      "execution_count": null,
      "metadata": {
        "id": "35C5tgFu608o"
      },
      "outputs": [],
      "source": [
        "sns.set(style=\"whitegrid\", font_scale=1.2)\n",
        "plt.subplots(figsize = (20,15))\n",
        "plt.subplot(3,3,1)\n",
        "sns.boxplot(x='Type', y='RI', data=data)\n",
        "plt.subplot(3,3,2)\n",
        "sns.boxplot(x='Type', y='Na', data=data)\n",
        "plt.subplot(3,3,3)\n",
        "sns.boxplot(x='Type', y='Mg', data=data)\n",
        "plt.subplot(3,3,4)\n",
        "sns.boxplot(x='Type', y='Al', data=data)\n",
        "plt.subplot(3,3,5)\n",
        "sns.boxplot(x='Type', y='Si', data=data)\n",
        "plt.subplot(3,3,6)\n",
        "sns.boxplot(x='Type', y='K', data=data)\n",
        "plt.subplot(3,3,7)\n",
        "sns.boxplot(x='Type', y='Ca', data=data)\n",
        "plt.subplot(3,3,8)\n",
        "sns.boxplot(x='Type', y='Ba', data=data)\n",
        "plt.subplot(3,3,9)\n",
        "sns.boxplot(x='Type', y='Fe', data=data)\n",
        "plt.show()"
      ]
    },
    {
      "cell_type": "markdown",
      "metadata": {
        "id": "lrT0m0GR644-"
      },
      "source": [
        "#### Create a pairplot to display pairwise relationship. See [here](https://seaborn.pydata.org/generated/seaborn.pairplot.html) for further details. This has been done for you."
      ]
    },
    {
      "cell_type": "code",
      "execution_count": null,
      "metadata": {
        "id": "1vStvr9G7ZmM"
      },
      "outputs": [],
      "source": [
        "from IPython.core.display import display, HTML\n",
        "display(HTML(\"<style>.container { width:100% !important; }</style>\"))\n",
        "sns.pairplot(data[['RI','Na','Mg','Al','Si','Ca','Type']], hue='Type')"
      ]
    },
    {
      "cell_type": "code",
      "execution_count": null,
      "metadata": {
        "id": "LaMsLVruarHk"
      },
      "outputs": [],
      "source": [
        "# Plot heatmap showing correlation between different features\n",
        "plt.subplots(figsize=(15,10))\n",
        "sns.heatmap(data.corr(),cmap='YlGnBu',annot=True, linewidth=.5)"
      ]
    },
    {
      "cell_type": "markdown",
      "metadata": {
        "id": "FRhEcln77rIK"
      },
      "source": [
        "### Extract target and descriptive features (1 point)"
      ]
    },
    {
      "cell_type": "markdown",
      "metadata": {
        "id": "Ft878at7ay7A"
      },
      "source": [
        "#### Add the following features to the dataset to model interactions between the pairs of glass materials. (See [here](https://cmdlinetips.com/2019/01/3-ways-to-add-new-columns-to-pandas-dataframe/) for an example.) \n",
        "\n",
        "    - Ca*Na\n",
        "    - Al*Mg \n",
        "    - Ca*Mg\n",
        "    - Ca*RI"
      ]
    },
    {
      "cell_type": "code",
      "execution_count": null,
      "metadata": {
        "id": "blhp_Upk8E-Y"
      },
      "outputs": [],
      "source": [
        "# Additional features to be added to the data\n",
        "data['Ca_Na'] = # insert your code here\n",
        "data['Al_Mg'] = # insert your code here\n",
        "data['Ca_Mg'] = # insert your code here\n",
        "data['Ca_RI'] = # insert your code here"
      ]
    },
    {
      "cell_type": "code",
      "execution_count": null,
      "metadata": {
        "id": "MOlYp-orcVjX"
      },
      "outputs": [],
      "source": [
        "data.columns.values"
      ]
    },
    {
      "cell_type": "markdown",
      "metadata": {
        "id": "a5ZWpS1BbfnU"
      },
      "source": [
        "#### Separate the target and features from the data."
      ]
    },
    {
      "cell_type": "code",
      "execution_count": null,
      "metadata": {
        "id": "9SraCmSmcGrf"
      },
      "outputs": [],
      "source": [
        "# Store all the features from the data in X\n",
        "X= # insert your code here\n",
        "print(X)\n",
        "# Store all the labels in y\n",
        "y= # insert your code here\n",
        "print(y)"
      ]
    },
    {
      "cell_type": "code",
      "execution_count": null,
      "metadata": {
        "id": "gdUFK3qG8Gnk"
      },
      "outputs": [],
      "source": [
        "# Convert data to numpy array\n",
        "X = # insert your code here\n",
        "y = # insert your code here"
      ]
    },
    {
      "cell_type": "markdown",
      "metadata": {
        "id": "N-JPYSnc8JQi"
      },
      "source": [
        "### Create training and validation datasets (1 point)\n",
        "\n",
        "\n",
        "We will split the dataset into training and validation set. Generally in machine learning, we split the data into training,\n",
        "validation and test set (this will be covered in later chapters). The model with best performance on the validation set is used to evaluate perfromance on \n",
        "the test set which is the unseen data. In this assignment, we will using `train set` for training and evaluate the performance on the `validation set` for various \n",
        "model configurations to determine the best hyperparameters (parameter setting yielding the best performance).\n",
        "\n",
        "Split the data into training and validation set using `train_test_split`.  See [here](https://scikit-learn.org/stable/modules/generated/sklearn.model_selection.train_test_split.html) for details. To get consistent result while splitting, set `random_state` to the value defined earlier. We use 80% of the data for training and 20% of the data for validation. This has been done for you."
      ]
    },
    {
      "cell_type": "code",
      "execution_count": null,
      "metadata": {
        "id": "BzTzI3iT8R5x"
      },
      "outputs": [],
      "source": [
        "X_train,X_val,y_train,y_val = # insert your code here"
      ]
    },
    {
      "cell_type": "markdown",
      "metadata": {
        "id": "I0TlScQvXJaY"
      },
      "source": [
        "## Training Decision Tree-based Classifiers (18 points)\n"
      ]
    },
    {
      "cell_type": "markdown",
      "metadata": {
        "id": "VKYdQa0tXJaY"
      },
      "source": [
        "### Exercise 1: Learning a Decision Tree (10 points)\n",
        "\n",
        "#### We will use the `sklearn` library to train a Decision Tree classifier. Review ch.4 and see [here](https://scikit-learn.org/stable/modules/generated/sklearn.tree.DecisionTreeClassifier.html) for more details. "
      ]
    },
    {
      "cell_type": "code",
      "execution_count": null,
      "metadata": {
        "id": "Vd1q1gNMXJaZ"
      },
      "outputs": [],
      "source": [
        "from sklearn.tree import DecisionTreeClassifier\n",
        "from sklearn.metrics import accuracy_score"
      ]
    },
    {
      "cell_type": "code",
      "execution_count": null,
      "metadata": {
        "id": "Myg0DW8eXJaZ"
      },
      "outputs": [],
      "source": [
        "# tree visualization helper function \n",
        "from sklearn.tree import export_graphviz\n",
        "from six import StringIO  \n",
        "from IPython.display import Image  \n",
        "import pydotplus\n",
        "\n",
        "\"\"\"\n",
        "clf: DecisionTreeClassifier\n",
        "\n",
        "Returns a bytes object representing the image of the tree \n",
        "\"\"\"\n",
        "def get_tree_image(clf):\n",
        "    dot_data = StringIO()\n",
        "    feature_names=data.drop('Type',axis=1).columns\n",
        "    class_names=[\"building_windows_float_processed\", \"building_windows_non_float_processed\", \"vehicle_windows_float_processed\", \n",
        "            \"containers\", \"tableware\", \"headlamps\"]\n",
        "    export_graphviz(clf, out_file=dot_data,  \n",
        "                    filled=True, rounded=True,\n",
        "                    special_characters=True,\n",
        "                    feature_names=feature_names, \n",
        "                    class_names=class_names)\n",
        "    graph = pydotplus.graph_from_dot_data(dot_data.getvalue())\n",
        "    \n",
        "\n",
        "    return graph.create_png()"
      ]
    },
    {
      "cell_type": "markdown",
      "metadata": {
        "id": "WwSxdPYFXJaZ"
      },
      "source": [
        "#### Exercise 1a: Fit and interpret a decision tree. (6 points)\n",
        "\n",
        "#### Fit Decision trees using the Gini index and entropy-based impurity measure. \n",
        "\n",
        "#### Set the random_state to the value defined above. Keep all other parameters at their default values. \n",
        "\n",
        "#### Report the training and validation set accuracies for each classifier."
      ]
    },
    {
      "cell_type": "code",
      "execution_count": null,
      "metadata": {
        "id": "vfZC0Bb7XJaa"
      },
      "outputs": [],
      "source": [
        "# insert your code here"
      ]
    },
    {
      "cell_type": "markdown",
      "metadata": {
        "id": "nA9VYMOPXJaa"
      },
      "source": [
        "#### Visualize the Decision Tree with the best validation performance."
      ]
    },
    {
      "cell_type": "code",
      "execution_count": null,
      "metadata": {
        "id": "Zbn5e80hXJab"
      },
      "outputs": [],
      "source": [
        "best_clf=# insert your code here\n",
        "tree_image=get_tree_image(best_clf)\n",
        "Image(tree_image)"
      ]
    },
    {
      "cell_type": "markdown",
      "metadata": {
        "id": "pxsC6EBIXJab"
      },
      "source": [
        "#### Indicate the most informative descriptive feature (with the threshold) and briefly explain why this is the most informative (from an algorithmic viewpoint). "
      ]
    },
    {
      "cell_type": "markdown",
      "metadata": {
        "id": "LH2_jKRuXJab"
      },
      "source": [
        "**ANS**:"
      ]
    },
    {
      "cell_type": "markdown",
      "metadata": {
        "id": "ZMW3Dh4TXJac"
      },
      "source": [
        "#### Briefly comment on the tree's depth and what factors may contribute to the shallowness/complexity of the tree. \n"
      ]
    },
    {
      "cell_type": "markdown",
      "metadata": {
        "id": "v5PBtmpRXJac"
      },
      "source": [
        "**ANS**:"
      ]
    },
    {
      "cell_type": "markdown",
      "metadata": {
        "id": "_PX5DzOiXJac"
      },
      "source": [
        "#### Show how one can interpret the tree by specifying the rule from its left most branch. "
      ]
    },
    {
      "cell_type": "markdown",
      "metadata": {
        "id": "lfZG9R6MXJad"
      },
      "source": [
        "**ANS**:"
      ]
    },
    {
      "cell_type": "markdown",
      "metadata": {
        "id": "bV7egnaJXJad"
      },
      "source": [
        "#### Exercise 1b: Prune a decision tree. (4 points)\n",
        "\n",
        "#### Next, let's try pruning the tree to see if we can improve the classifier's generalization performance.\n",
        "\n",
        "####  Preprune a decision tree by varying the `max_depth` among {None (no depth control), 1,3,5,7}.\n",
        "\n",
        "#### Set the criterion to entropy and the random_state to the value defined above. Keep all other parameters at their default values. \n",
        "\n",
        "#### Report the training and validation set accuracies for each classifier."
      ]
    },
    {
      "cell_type": "code",
      "execution_count": null,
      "metadata": {
        "id": "5QE8AXWMXJad"
      },
      "outputs": [],
      "source": [
        "# insert your code here"
      ]
    },
    {
      "cell_type": "markdown",
      "metadata": {
        "id": "DJs-XmEAXJad"
      },
      "source": [
        "#### Analyze the effect of increasing tree depth on training and validation performance."
      ]
    },
    {
      "cell_type": "markdown",
      "metadata": {
        "id": "Qmn3SwuSXJae"
      },
      "source": [
        "**ANS**:"
      ]
    },
    {
      "cell_type": "markdown",
      "metadata": {
        "id": "Ad1CZwTbXJae"
      },
      "source": [
        "### Exercise 2: Learning an Ensemble of Decision Trees (8 points)\n",
        "\n",
        "#### We will use the `sklearn` library to implement bagging and boosting. Review ch.4 and read more on [bagging](https://scikit-learn.org/stable/modules/generated/sklearn.ensemble.RandomForestClassifier.html) and [boosting](https://scikit-learn.org/stable/modules/generated/sklearn.ensemble.GradientBoostingClassifier.html). "
      ]
    },
    {
      "cell_type": "code",
      "execution_count": null,
      "metadata": {
        "id": "j7qulgS4XJae"
      },
      "outputs": [],
      "source": [
        "from sklearn.ensemble import RandomForestClassifier\n",
        "from sklearn.ensemble import GradientBoostingClassifier"
      ]
    },
    {
      "cell_type": "markdown",
      "metadata": {
        "id": "fdZaCHS_XJae"
      },
      "source": [
        "#### Exercise 2a: Fit a Random Forest. (4 points)\n",
        "\n",
        "#### Fit different Random Forest classifiers by varying the number of trees among {10, 50, 100, 400, 1000}. \n",
        "\n",
        "#### Set the `criterion` to entropy and set the random_state to the value defined above. Keep all other parameters at their default values. \n",
        "\n",
        "#### Report the validation set accuracies for each classifier."
      ]
    },
    {
      "cell_type": "code",
      "execution_count": null,
      "metadata": {
        "id": "hGza2GOBXJaf"
      },
      "outputs": [],
      "source": [
        "# insert your code here"
      ]
    },
    {
      "cell_type": "markdown",
      "metadata": {
        "id": "6r9gRuqhXJaf"
      },
      "source": [
        "#### Comment on the effect of increasing the number of trees on validation performance. Compare the performance of the best performing Random Forest classifier against the Decision Tree Classifier trained with entropy (Ex. 1a) and explain any difference. "
      ]
    },
    {
      "cell_type": "markdown",
      "metadata": {
        "id": "XwmNqr1oXJaf"
      },
      "source": [
        "**ANS**:"
      ]
    },
    {
      "cell_type": "markdown",
      "metadata": {
        "id": "TF02vZ_5XJaf"
      },
      "source": [
        "#### Exercise 2b: Fit a Gradient Boosted Decision Tree (GBDT). (4 points)\n",
        "\n",
        "#### Fit different GBDTs by varying the number of boosting steps/trees added among {5, 10, 20, 50, 100, 200}. \n",
        "\n",
        "#### Set the `n_iter_no_change` to 100, `validation_fraction=0.2`, and random_state to the value defined above. Keep all other parameters at their default values. \n",
        "\n",
        "#### Report the training and validation set accuracies for each classifier."
      ]
    },
    {
      "cell_type": "code",
      "execution_count": null,
      "metadata": {
        "id": "MLbv2bDtXJag"
      },
      "outputs": [],
      "source": [
        "# insert your code here"
      ]
    },
    {
      "cell_type": "markdown",
      "metadata": {
        "id": "MsG4U_vuXJag"
      },
      "source": [
        "#### Comment on the effect of increasing the number of trees on validation performance. Compare the performance of the best performing GBDT against that of the best performing Random Forest classifier (Ex. 2a) and Decision Tree classifier trained with entropy (Ex. 1a). "
      ]
    },
    {
      "cell_type": "markdown",
      "metadata": {
        "id": "U_SQBmp9XJah"
      },
      "source": [
        "**ANS**:"
      ]
    }
  ],
  "metadata": {
    "colab": {
      "collapsed_sections": [],
      "provenance": []
    },
    "kernelspec": {
      "display_name": "Python 3",
      "language": "python",
      "name": "python3"
    },
    "language_info": {
      "codemirror_mode": {
        "name": "ipython",
        "version": 3
      },
      "file_extension": ".py",
      "mimetype": "text/x-python",
      "name": "python",
      "nbconvert_exporter": "python",
      "pygments_lexer": "ipython3",
      "version": "3.6.9"
    },
    "nav_menu": {
      "height": "309px",
      "width": "468px"
    },
    "toc": {
      "navigate_menu": true,
      "number_sections": true,
      "sideBar": true,
      "threshold": 6,
      "toc_cell": false,
      "toc_section_display": "block",
      "toc_window_display": false
    }
  },
  "nbformat": 4,
  "nbformat_minor": 0
}
