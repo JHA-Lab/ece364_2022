{
  "nbformat": 4,
  "nbformat_minor": 0,
  "metadata": {
    "colab": {
      "provenance": [],
      "collapsed_sections": []
    },
    "kernelspec": {
      "display_name": "Python 3",
      "language": "python",
      "name": "python3"
    },
    "language_info": {
      "codemirror_mode": {
        "name": "ipython",
        "version": 3
      },
      "file_extension": ".py",
      "mimetype": "text/x-python",
      "name": "python",
      "nbconvert_exporter": "python",
      "pygments_lexer": "ipython3",
      "version": "3.6.9"
    },
    "nav_menu": {
      "height": "309px",
      "width": "468px"
    },
    "toc": {
      "navigate_menu": true,
      "number_sections": true,
      "sideBar": true,
      "threshold": 6,
      "toc_cell": false,
      "toc_section_display": "block",
      "toc_window_display": false
    }
  },
  "cells": [
    {
      "cell_type": "markdown",
      "metadata": {
        "id": "E32UBMT7VKMm"
      },
      "source": [
        "## Prepare python environment\n"
      ]
    },
    {
      "cell_type": "code",
      "metadata": {
        "id": "y_lm7Q-9VKMn"
      },
      "source": [
        "import pandas as pd\n",
        "import numpy as np\n",
        "import matplotlib.pyplot as plt\n",
        "import seaborn as sns\n",
        "from sklearn.preprocessing import StandardScaler\n",
        "from sklearn.model_selection import train_test_split\n",
        "\n",
        "%matplotlib inline"
      ],
      "execution_count": null,
      "outputs": []
    },
    {
      "cell_type": "code",
      "metadata": {
        "id": "ryOZJYQa3PG0"
      },
      "source": [
        "random_state = 5 # Use this to control randomness across runs e.g., dataset partitioning"
      ],
      "execution_count": null,
      "outputs": []
    },
    {
      "cell_type": "markdown",
      "metadata": {
        "id": "BASGXrOy4wat"
      },
      "source": [
        "## Preparing the Diabetes Dataset (2 points)"
      ]
    },
    {
      "cell_type": "markdown",
      "source": [
        "We will use the diabetes dataset from the UCI machine learning repository. Details about this dataset can be found [here](https://www.kaggle.com/uciml/pima-indians-diabetes-database). The objective of this project is to predict whether or not a female patient has diabetes based on diagnostic measurements in the dataset.\n",
        "\n",
        "The dataset consists of several medical predictor variables (features) and one target variable indicating whether or not the person has diabetes. Predictor variables include the number of pregnancies the patient has had, glucose level, blood pressure, skin, insulin, bmi, pedigree, and age."
      ],
      "metadata": {
        "id": "7Qrhdt-A2Afs"
      }
    },
    {
      "cell_type": "markdown",
      "metadata": {
        "id": "URgO9HCN6RCl"
      },
      "source": [
        "### Loading the dataset"
      ]
    },
    {
      "cell_type": "code",
      "metadata": {
        "id": "6Pyo8XV46UlI"
      },
      "source": [
        "# These are the names of the columns in the dataset. They includes all features of the data and the label.\n",
        "col_names = ['pregnancies', 'glucose', 'bp', 'skin', 'insulin', 'bmi', 'pedigree', 'age', 'label']\n",
        "\n",
        "# Download and load the dataset\n",
        "import os\n",
        "if not os.path.exists('diabetes.csv'): \n",
        "    !wget https://raw.githubusercontent.com/JHA-Lab/ece364_2022/master/dataset/diabetes.csv \n",
        "diabetes_data = pd.read_csv('diabetes.csv', header=1, names=col_names)\n",
        "\n",
        "FEATURE_NAMES=diabetes_data.drop('label',axis=1).columns\n",
        "\n",
        "# Display the first five instances in the dataset\n",
        "diabetes_data.head(5)"
      ],
      "execution_count": null,
      "outputs": []
    },
    {
      "cell_type": "code",
      "metadata": {
        "id": "UXUMJrOYNfXj"
      },
      "source": [
        "# Check the type of data in each column\n",
        "diabetes_data.info()"
      ],
      "execution_count": null,
      "outputs": []
    },
    {
      "cell_type": "markdown",
      "metadata": {
        "id": "KS7PzOS76hrv"
      },
      "source": [
        "#### Look at some statistics of the data using the `describe` function in pandas."
      ]
    },
    {
      "cell_type": "code",
      "metadata": {
        "id": "sWDsbF6U6ZLT"
      },
      "source": [
        "# Display some stats\n",
        "diabetes_data.describe()"
      ],
      "execution_count": null,
      "outputs": []
    },
    {
      "cell_type": "code",
      "source": [
        "fig, ax = plt.subplots(1, 1)\n",
        "ax.pie(diabetes_data.label.value_counts(),autopct='%1.1f%%', labels=['Not diabetes','Diabetes'], colors=['green','red'])\n",
        "plt.axis('equal')\n",
        "plt.ylabel('');"
      ],
      "metadata": {
        "id": "FMQ8Vr23cueL"
      },
      "execution_count": null,
      "outputs": []
    },
    {
      "cell_type": "markdown",
      "metadata": {
        "id": "fIhJ405vteOl"
      },
      "source": [
        "### Extract target and descriptive features (1 point)"
      ]
    },
    {
      "cell_type": "markdown",
      "metadata": {
        "id": "OIehnONbPjbZ"
      },
      "source": [
        "#### Separate the target and features from the data."
      ]
    },
    {
      "cell_type": "code",
      "metadata": {
        "id": "blhp_Upk8E-Y"
      },
      "source": [
        "# Store all the features from the data in X\n",
        "X = # insert your code here\n",
        "\n",
        "# Store all the target labels in y\n",
        "y = # insert your code here"
      ],
      "execution_count": null,
      "outputs": []
    },
    {
      "cell_type": "code",
      "metadata": {
        "id": "gdUFK3qG8Gnk"
      },
      "source": [
        "# Convert data to numpy arrays\n",
        "X = # insert your code here\n",
        "y = # insert your code here"
      ],
      "execution_count": null,
      "outputs": []
    },
    {
      "cell_type": "markdown",
      "metadata": {
        "id": "N-JPYSnc8JQi"
      },
      "source": [
        "### Create training and validation datasets (0.5 points)\n",
        "\n",
        "Split the data into training and validation set using `train_test_split`.  See [here](https://scikit-learn.org/stable/modules/generated/sklearn.model_selection.train_test_split.html) for details. To get consistent result while splitting, set `random_state` to the value defined earlier. We use 80% of the data for training and 20% of the data for validation."
      ]
    },
    {
      "cell_type": "code",
      "metadata": {
        "id": "BzTzI3iT8R5x"
      },
      "source": [
        "X_train, X_val, y_train, y_val = # insert your code here"
      ],
      "execution_count": null,
      "outputs": []
    },
    {
      "cell_type": "markdown",
      "source": [
        "### Preprocess the dataset (0.5 points)\n",
        "\n",
        "#### Preprocess the dataset by normalizing each feature to have zero mean and unit standard deviation. This can be done using `StandardScaler()` function. See [here](https://scikit-learn.org/stable/modules/generated/sklearn.preprocessing.StandardScaler.html) for more details."
      ],
      "metadata": {
        "id": "Du8boGjAz5V0"
      }
    },
    {
      "cell_type": "code",
      "source": [
        "# Define the scaler for scaling the data\n",
        "scaler = # insert your code here\n",
        "\n",
        "# Normalize the training data\n",
        "X_train = # insert your code here\n",
        "\n",
        "# Use the scaler defined above to standardize the validation data by applying the same transformation to the validation data.\n",
        "X_val = # insert your code here"
      ],
      "metadata": {
        "id": "zgZd8gKr0AmV"
      },
      "execution_count": null,
      "outputs": []
    },
    {
      "cell_type": "markdown",
      "metadata": {
        "id": "79Xi4_63teOo"
      },
      "source": [
        "## Training K-nearest neighbor models (18 points)\n"
      ]
    },
    {
      "cell_type": "markdown",
      "source": [
        "\n",
        "#### We will use the `sklearn` library to train a K-nearest neighbors (kNN) classifier. Review ch.5 and see [here](https://scikit-learn.org/stable/modules/generated/sklearn.neighbors.KNeighborsClassifier.html#sklearn.neighbors.KNeighborsClassifier) for more details. "
      ],
      "metadata": {
        "id": "nZZ-sG7b2JG_"
      }
    },
    {
      "cell_type": "markdown",
      "metadata": {
        "id": "myNA80bOteOo"
      },
      "source": [
        "### Exercise 1: Learning a kNN classifier (18 points)"
      ]
    },
    {
      "cell_type": "code",
      "metadata": {
        "id": "Uykugy5hteOo"
      },
      "source": [
        "from sklearn.neighbors import KNeighborsClassifier\n",
        "from sklearn.metrics import accuracy_score "
      ],
      "execution_count": null,
      "outputs": []
    },
    {
      "cell_type": "markdown",
      "metadata": {
        "id": "GaxElyimteOo"
      },
      "source": [
        "#### Exercise 1a: Evaluate the effect of the number of neighbors (6 points)\n",
        "\n",
        "#### Train kNN classifiers with different number of neighbors among {1, 5, 15, 100, length(X_train)}.\n",
        "\n",
        "#### Keep all other parameters at their default values.  \n",
        "\n",
        "#### Report the model's accuracy on the training and validation sets."
      ]
    },
    {
      "cell_type": "code",
      "metadata": {
        "id": "frn2uVg2teOo"
      },
      "source": [
        "# insert your code here"
      ],
      "execution_count": null,
      "outputs": []
    },
    {
      "cell_type": "markdown",
      "metadata": {
        "id": "n5pr7OuCteOp"
      },
      "source": [
        "#### Explain the effect of increasing the number of neighbors on the performance with the training and validation sets. "
      ]
    },
    {
      "cell_type": "markdown",
      "metadata": {
        "id": "cQLBTS2lteOp"
      },
      "source": [
        "**ANS**:"
      ]
    },
    {
      "cell_type": "markdown",
      "metadata": {
        "id": "ihIPwIM6teOp"
      },
      "source": [
        "#### Exercise 1b: Evaluate the effect of a weighted kNN (6 points)\n",
        "\n",
        "#### Train kNN classifiers with distance-weighting and vary the  number of neighbors among {1, 5, 15, 100, length(X_train)}.\n",
        "\n",
        "#### Keep all other parameters at their default values.  \n",
        "\n",
        "#### Report the model's accuracy on the training and validation sets."
      ]
    },
    {
      "cell_type": "code",
      "metadata": {
        "id": "PdFyiE1iteOp"
      },
      "source": [
        "# insert your code here"
      ],
      "execution_count": null,
      "outputs": []
    },
    {
      "cell_type": "markdown",
      "metadata": {
        "id": "ynQ08CE5teOp"
      },
      "source": [
        "#### Compare the effect of the number of neighbors on model performance (train and validation) under the distance-weighted kNN against the uniformly weighted kNN. Explain any differences observed."
      ]
    },
    {
      "cell_type": "markdown",
      "metadata": {
        "id": "Hs4yZ-bAteOq"
      },
      "source": [
        "**ANS**:"
      ]
    },
    {
      "cell_type": "markdown",
      "metadata": {
        "id": "GMEqCNbVteOq"
      },
      "source": [
        "#### Exercise 1c: Evaluate the effect of the power parameter in the Minkowski distance metric (6 points)\n",
        "\n",
        "#### Train kNN classifiers with different distance functions by varying the power parameter for the Minkowski distance among {1, 2, 10, 100}.\n",
        "\n",
        "#### Fix the number of neighbors to be 15, and use the uniformly-weighted kNN. Keep all other parameters at their default values.  \n",
        "#### Report the model's accuracy over the validation set."
      ]
    },
    {
      "cell_type": "code",
      "metadata": {
        "id": "4OwllfC3teOr"
      },
      "source": [
        "# insert your code here"
      ],
      "execution_count": null,
      "outputs": []
    },
    {
      "cell_type": "markdown",
      "metadata": {
        "id": "7G4gowmIteOr"
      },
      "source": [
        "#### Explain any effect observed on the model performance upon increasing the power parameter. "
      ]
    },
    {
      "cell_type": "markdown",
      "metadata": {
        "id": "Dv4pm9qcteOs"
      },
      "source": [
        "**ANS**:"
      ]
    },
    {
      "cell_type": "markdown",
      "source": [
        "[Submit](https://docs.google.com/document/d/1xSVzQorsVdyWGaj0zg3po1jcA2RuwlvS6K8cCqARi2Y) to Gradescope when finished."
      ],
      "metadata": {
        "id": "pugE2bg7alBZ"
      }
    }
  ]
}